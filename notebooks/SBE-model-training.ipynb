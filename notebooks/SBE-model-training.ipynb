{
 "cells": [
  {
   "cell_type": "markdown",
   "metadata": {},
   "source": [
    "## Imports"
   ]
  },
  {
   "cell_type": "code",
   "execution_count": null,
   "metadata": {},
   "outputs": [],
   "source": [
    "# Import libraries\n",
    "import pandas as pd\n",
    "import numpy as np\n",
    "from sklearn.model_selection import StratifiedGroupKFold, GridSearchCV, GroupShuffleSplit, StratifiedKFold\n",
    "from sklearn.metrics import f1_score, precision_score, recall_score\n",
    "from sklearn.inspection import permutation_importance\n",
    "import matplotlib.pyplot as plt\n",
    "import seaborn as sns\n",
    "\n",
    "from catboost import CatBoostClassifier"
   ]
  },
  {
   "cell_type": "markdown",
   "metadata": {},
   "source": [
    "## Set Paths"
   ]
  },
  {
   "cell_type": "code",
   "execution_count": 2,
   "metadata": {},
   "outputs": [],
   "source": [
    "DATA_PATH = 'training.csv'\n",
    "UNLABELED_PATH = 'unlabeled.csv'"
   ]
  },
  {
   "cell_type": "markdown",
   "metadata": {},
   "source": [
    "## Load and view training data"
   ]
  },
  {
   "cell_type": "code",
   "execution_count": 3,
   "metadata": {},
   "outputs": [
    {
     "name": "stdout",
     "output_type": "stream",
     "text": [
      "(2471, 16)\n"
     ]
    },
    {
     "data": {
      "text/html": [
       "<div>\n",
       "<style scoped>\n",
       "    .dataframe tbody tr th:only-of-type {\n",
       "        vertical-align: middle;\n",
       "    }\n",
       "\n",
       "    .dataframe tbody tr th {\n",
       "        vertical-align: top;\n",
       "    }\n",
       "\n",
       "    .dataframe thead th {\n",
       "        text-align: right;\n",
       "    }\n",
       "</style>\n",
       "<table border=\"1\" class=\"dataframe\">\n",
       "  <thead>\n",
       "    <tr style=\"text-align: right;\">\n",
       "      <th></th>\n",
       "      <th>participant_id</th>\n",
       "      <th>latitude</th>\n",
       "      <th>longitude</th>\n",
       "      <th>heart_rate</th>\n",
       "      <th>heart_rate_resting</th>\n",
       "      <th>heart_rate_variability</th>\n",
       "      <th>stand_time</th>\n",
       "      <th>step_count</th>\n",
       "      <th>walking_distance</th>\n",
       "      <th>temperature</th>\n",
       "      <th>relative_humidity</th>\n",
       "      <th>heat_index</th>\n",
       "      <th>dew_point</th>\n",
       "      <th>day_of_week</th>\n",
       "      <th>hour_of_day</th>\n",
       "      <th>general_location</th>\n",
       "    </tr>\n",
       "  </thead>\n",
       "  <tbody>\n",
       "    <tr>\n",
       "      <th>0</th>\n",
       "      <td>malta01</td>\n",
       "      <td>1.303680</td>\n",
       "      <td>103.773538</td>\n",
       "      <td>NaN</td>\n",
       "      <td>NaN</td>\n",
       "      <td>NaN</td>\n",
       "      <td>NaN</td>\n",
       "      <td>NaN</td>\n",
       "      <td>NaN</td>\n",
       "      <td>29.298993</td>\n",
       "      <td>69.077737</td>\n",
       "      <td>34.555714</td>\n",
       "      <td>22.836399</td>\n",
       "      <td>3</td>\n",
       "      <td>17</td>\n",
       "      <td>0</td>\n",
       "    </tr>\n",
       "    <tr>\n",
       "      <th>1</th>\n",
       "      <td>malta01</td>\n",
       "      <td>1.299501</td>\n",
       "      <td>103.775276</td>\n",
       "      <td>NaN</td>\n",
       "      <td>NaN</td>\n",
       "      <td>NaN</td>\n",
       "      <td>NaN</td>\n",
       "      <td>NaN</td>\n",
       "      <td>NaN</td>\n",
       "      <td>29.298993</td>\n",
       "      <td>69.077737</td>\n",
       "      <td>34.555714</td>\n",
       "      <td>22.836399</td>\n",
       "      <td>3</td>\n",
       "      <td>18</td>\n",
       "      <td>0</td>\n",
       "    </tr>\n",
       "    <tr>\n",
       "      <th>2</th>\n",
       "      <td>malta01</td>\n",
       "      <td>1.305428</td>\n",
       "      <td>103.789796</td>\n",
       "      <td>79.0</td>\n",
       "      <td>NaN</td>\n",
       "      <td>NaN</td>\n",
       "      <td>NaN</td>\n",
       "      <td>NaN</td>\n",
       "      <td>NaN</td>\n",
       "      <td>29.298993</td>\n",
       "      <td>69.077737</td>\n",
       "      <td>34.555714</td>\n",
       "      <td>22.836399</td>\n",
       "      <td>3</td>\n",
       "      <td>18</td>\n",
       "      <td>0</td>\n",
       "    </tr>\n",
       "    <tr>\n",
       "      <th>3</th>\n",
       "      <td>malta01</td>\n",
       "      <td>1.306101</td>\n",
       "      <td>103.791138</td>\n",
       "      <td>NaN</td>\n",
       "      <td>NaN</td>\n",
       "      <td>NaN</td>\n",
       "      <td>NaN</td>\n",
       "      <td>NaN</td>\n",
       "      <td>NaN</td>\n",
       "      <td>29.298993</td>\n",
       "      <td>69.077737</td>\n",
       "      <td>34.555714</td>\n",
       "      <td>22.836399</td>\n",
       "      <td>3</td>\n",
       "      <td>18</td>\n",
       "      <td>0</td>\n",
       "    </tr>\n",
       "    <tr>\n",
       "      <th>4</th>\n",
       "      <td>malta01</td>\n",
       "      <td>1.306032</td>\n",
       "      <td>103.791090</td>\n",
       "      <td>NaN</td>\n",
       "      <td>NaN</td>\n",
       "      <td>NaN</td>\n",
       "      <td>NaN</td>\n",
       "      <td>NaN</td>\n",
       "      <td>NaN</td>\n",
       "      <td>29.298993</td>\n",
       "      <td>69.077737</td>\n",
       "      <td>34.555714</td>\n",
       "      <td>22.836399</td>\n",
       "      <td>3</td>\n",
       "      <td>19</td>\n",
       "      <td>0</td>\n",
       "    </tr>\n",
       "  </tbody>\n",
       "</table>\n",
       "</div>"
      ],
      "text/plain": [
       "  participant_id  latitude   longitude  heart_rate  heart_rate_resting  \\\n",
       "0        malta01  1.303680  103.773538         NaN                 NaN   \n",
       "1        malta01  1.299501  103.775276         NaN                 NaN   \n",
       "2        malta01  1.305428  103.789796        79.0                 NaN   \n",
       "3        malta01  1.306101  103.791138         NaN                 NaN   \n",
       "4        malta01  1.306032  103.791090         NaN                 NaN   \n",
       "\n",
       "   heart_rate_variability  stand_time  step_count  walking_distance  \\\n",
       "0                     NaN         NaN         NaN               NaN   \n",
       "1                     NaN         NaN         NaN               NaN   \n",
       "2                     NaN         NaN         NaN               NaN   \n",
       "3                     NaN         NaN         NaN               NaN   \n",
       "4                     NaN         NaN         NaN               NaN   \n",
       "\n",
       "   temperature  relative_humidity  heat_index  dew_point  day_of_week  \\\n",
       "0    29.298993          69.077737   34.555714  22.836399            3   \n",
       "1    29.298993          69.077737   34.555714  22.836399            3   \n",
       "2    29.298993          69.077737   34.555714  22.836399            3   \n",
       "3    29.298993          69.077737   34.555714  22.836399            3   \n",
       "4    29.298993          69.077737   34.555714  22.836399            3   \n",
       "\n",
       "   hour_of_day  general_location  \n",
       "0           17                 0  \n",
       "1           18                 0  \n",
       "2           18                 0  \n",
       "3           18                 0  \n",
       "4           19                 0  "
      ]
     },
     "execution_count": 3,
     "metadata": {},
     "output_type": "execute_result"
    }
   ],
   "source": [
    "data = pd.read_csv(DATA_PATH)\n",
    "\n",
    "print(data.shape)\n",
    "data.head()"
   ]
  },
  {
   "cell_type": "code",
   "execution_count": 4,
   "metadata": {},
   "outputs": [
    {
     "name": "stdout",
     "output_type": "stream",
     "text": [
      "(72472, 15)\n"
     ]
    },
    {
     "data": {
      "text/html": [
       "<div>\n",
       "<style scoped>\n",
       "    .dataframe tbody tr th:only-of-type {\n",
       "        vertical-align: middle;\n",
       "    }\n",
       "\n",
       "    .dataframe tbody tr th {\n",
       "        vertical-align: top;\n",
       "    }\n",
       "\n",
       "    .dataframe thead th {\n",
       "        text-align: right;\n",
       "    }\n",
       "</style>\n",
       "<table border=\"1\" class=\"dataframe\">\n",
       "  <thead>\n",
       "    <tr style=\"text-align: right;\">\n",
       "      <th></th>\n",
       "      <th>participant_id</th>\n",
       "      <th>latitude</th>\n",
       "      <th>longitude</th>\n",
       "      <th>heart_rate</th>\n",
       "      <th>heart_rate_resting</th>\n",
       "      <th>heart_rate_variability</th>\n",
       "      <th>stand_time</th>\n",
       "      <th>step_count</th>\n",
       "      <th>walking_distance</th>\n",
       "      <th>temperature</th>\n",
       "      <th>relative_humidity</th>\n",
       "      <th>heat_index</th>\n",
       "      <th>dew_point</th>\n",
       "      <th>day_of_week</th>\n",
       "      <th>hour_of_day</th>\n",
       "    </tr>\n",
       "  </thead>\n",
       "  <tbody>\n",
       "    <tr>\n",
       "      <th>0</th>\n",
       "      <td>malta01</td>\n",
       "      <td>1.303622</td>\n",
       "      <td>103.774365</td>\n",
       "      <td>79.0</td>\n",
       "      <td>NaN</td>\n",
       "      <td>NaN</td>\n",
       "      <td>NaN</td>\n",
       "      <td>18.0</td>\n",
       "      <td>NaN</td>\n",
       "      <td>29.298993</td>\n",
       "      <td>69.077737</td>\n",
       "      <td>34.555714</td>\n",
       "      <td>22.836399</td>\n",
       "      <td>3</td>\n",
       "      <td>18</td>\n",
       "    </tr>\n",
       "    <tr>\n",
       "      <th>1</th>\n",
       "      <td>malta01</td>\n",
       "      <td>1.295121</td>\n",
       "      <td>103.784422</td>\n",
       "      <td>NaN</td>\n",
       "      <td>NaN</td>\n",
       "      <td>NaN</td>\n",
       "      <td>NaN</td>\n",
       "      <td>35.0</td>\n",
       "      <td>NaN</td>\n",
       "      <td>29.298993</td>\n",
       "      <td>69.077737</td>\n",
       "      <td>34.555714</td>\n",
       "      <td>22.836399</td>\n",
       "      <td>3</td>\n",
       "      <td>18</td>\n",
       "    </tr>\n",
       "    <tr>\n",
       "      <th>2</th>\n",
       "      <td>malta01</td>\n",
       "      <td>1.303541</td>\n",
       "      <td>103.787420</td>\n",
       "      <td>NaN</td>\n",
       "      <td>NaN</td>\n",
       "      <td>NaN</td>\n",
       "      <td>NaN</td>\n",
       "      <td>NaN</td>\n",
       "      <td>NaN</td>\n",
       "      <td>29.298993</td>\n",
       "      <td>69.077737</td>\n",
       "      <td>34.555714</td>\n",
       "      <td>22.836399</td>\n",
       "      <td>3</td>\n",
       "      <td>18</td>\n",
       "    </tr>\n",
       "    <tr>\n",
       "      <th>3</th>\n",
       "      <td>malta01</td>\n",
       "      <td>1.304956</td>\n",
       "      <td>103.789142</td>\n",
       "      <td>NaN</td>\n",
       "      <td>NaN</td>\n",
       "      <td>NaN</td>\n",
       "      <td>60.0</td>\n",
       "      <td>NaN</td>\n",
       "      <td>NaN</td>\n",
       "      <td>29.298993</td>\n",
       "      <td>69.077737</td>\n",
       "      <td>34.555714</td>\n",
       "      <td>22.836399</td>\n",
       "      <td>3</td>\n",
       "      <td>18</td>\n",
       "    </tr>\n",
       "    <tr>\n",
       "      <th>4</th>\n",
       "      <td>malta01</td>\n",
       "      <td>1.306695</td>\n",
       "      <td>103.791192</td>\n",
       "      <td>113.0</td>\n",
       "      <td>NaN</td>\n",
       "      <td>NaN</td>\n",
       "      <td>NaN</td>\n",
       "      <td>NaN</td>\n",
       "      <td>NaN</td>\n",
       "      <td>29.298993</td>\n",
       "      <td>69.077737</td>\n",
       "      <td>34.555714</td>\n",
       "      <td>22.836399</td>\n",
       "      <td>3</td>\n",
       "      <td>18</td>\n",
       "    </tr>\n",
       "  </tbody>\n",
       "</table>\n",
       "</div>"
      ],
      "text/plain": [
       "  participant_id  latitude   longitude  heart_rate  heart_rate_resting  \\\n",
       "0        malta01  1.303622  103.774365        79.0                 NaN   \n",
       "1        malta01  1.295121  103.784422         NaN                 NaN   \n",
       "2        malta01  1.303541  103.787420         NaN                 NaN   \n",
       "3        malta01  1.304956  103.789142         NaN                 NaN   \n",
       "4        malta01  1.306695  103.791192       113.0                 NaN   \n",
       "\n",
       "   heart_rate_variability  stand_time  step_count  walking_distance  \\\n",
       "0                     NaN         NaN        18.0               NaN   \n",
       "1                     NaN         NaN        35.0               NaN   \n",
       "2                     NaN         NaN         NaN               NaN   \n",
       "3                     NaN        60.0         NaN               NaN   \n",
       "4                     NaN         NaN         NaN               NaN   \n",
       "\n",
       "   temperature  relative_humidity  heat_index  dew_point  day_of_week  \\\n",
       "0    29.298993          69.077737   34.555714  22.836399            3   \n",
       "1    29.298993          69.077737   34.555714  22.836399            3   \n",
       "2    29.298993          69.077737   34.555714  22.836399            3   \n",
       "3    29.298993          69.077737   34.555714  22.836399            3   \n",
       "4    29.298993          69.077737   34.555714  22.836399            3   \n",
       "\n",
       "   hour_of_day  \n",
       "0           18  \n",
       "1           18  \n",
       "2           18  \n",
       "3           18  \n",
       "4           18  "
      ]
     },
     "execution_count": 4,
     "metadata": {},
     "output_type": "execute_result"
    }
   ],
   "source": [
    "unlabeled_data = pd.read_csv(UNLABELED_PATH)\n",
    "\n",
    "print(unlabeled_data.shape)\n",
    "unlabeled_data.head()"
   ]
  },
  {
   "cell_type": "markdown",
   "metadata": {},
   "source": [
    "## Split Train+Validation and Test set"
   ]
  },
  {
   "cell_type": "code",
   "execution_count": 5,
   "metadata": {},
   "outputs": [
    {
     "name": "stdout",
     "output_type": "stream",
     "text": [
      "Training and test data prepared.\n",
      "X_train shape: (1879, 14) X_test shape: (592, 14)\n"
     ]
    }
   ],
   "source": [
    "# Assuming your DataFrame is named df\n",
    "groups = data['participant_id']\n",
    "\n",
    "# Initialize the splitter (e.g., 80% training, 20% test)\n",
    "splitter = GroupShuffleSplit(test_size=0.2, n_splits=1, random_state=42)\n",
    "\n",
    "# Split the data into train and test sets\n",
    "train_idx, test_idx = next(splitter.split(data, groups=groups))\n",
    "train_df = data.iloc[train_idx]\n",
    "test_df = data.iloc[test_idx]\n",
    "\n",
    "# Prepare training data and test data\n",
    "X_train = train_df.drop(columns=['general_location', 'participant_id'])\n",
    "y_train = train_df['general_location']\n",
    "groups = train_df['participant_id']\n",
    "\n",
    "X_test = test_df.drop(columns=['general_location', 'participant_id'])\n",
    "y_test = test_df['general_location']\n",
    "\n",
    "print(\"Training and test data prepared.\")\n",
    "print(\"X_train shape:\", X_train.shape, \"X_test shape:\", X_test.shape)"
   ]
  },
  {
   "cell_type": "code",
   "execution_count": 6,
   "metadata": {},
   "outputs": [
    {
     "name": "stdout",
     "output_type": "stream",
     "text": [
      "17\n",
      "5\n"
     ]
    }
   ],
   "source": [
    "# check unique values of participant id in train and test\n",
    "print(train_df['participant_id'].nunique())\n",
    "print(test_df['participant_id'].nunique())"
   ]
  },
  {
   "cell_type": "markdown",
   "metadata": {},
   "source": [
    "- 17 participants are used in the training data\n",
    "- 5 participants in the test data"
   ]
  },
  {
   "cell_type": "code",
   "execution_count": 7,
   "metadata": {},
   "outputs": [],
   "source": [
    "# Initialize list to store performance metrics for each model\n",
    "results = []"
   ]
  },
  {
   "cell_type": "markdown",
   "metadata": {},
   "source": [
    "### Baseline 1: Predict mode only"
   ]
  },
  {
   "cell_type": "code",
   "execution_count": 8,
   "metadata": {},
   "outputs": [
    {
     "name": "stdout",
     "output_type": "stream",
     "text": [
      "Baseline 1 (Mode Only) metrics:\n",
      "F1: 0.673 Precision: 0.507 Recall: 1.0\n"
     ]
    }
   ],
   "source": [
    "# Get the most frequent label in y_train\n",
    "mode_value = y_train.mode()[0]  \n",
    "\n",
    "# Predict the mode for all instances\n",
    "y_pred_mode = np.full(shape=y_test.shape, fill_value=mode_value)  \n",
    "\n",
    "# Evaluate performance\n",
    "f1_mode = f1_score(y_test, y_pred_mode)\n",
    "precision_mode = precision_score(y_test, y_pred_mode)\n",
    "recall_mode = recall_score(y_test, y_pred_mode)\n",
    "\n",
    "# Store results and print metrics\n",
    "results.append({'Model': 'Baseline - Mode Only', 'F1': f1_mode, 'Precision': precision_mode, 'Recall': recall_mode})\n",
    "print(\"Baseline 1 (Mode Only) metrics:\")\n",
    "print(\"F1:\", round(f1_mode, 3), \"Precision:\", round(precision_mode, 3), \"Recall:\", round(recall_mode, 3))"
   ]
  },
  {
   "cell_type": "markdown",
   "metadata": {},
   "source": [
    "### Baseline 2: Using only GPS coordinates"
   ]
  },
  {
   "cell_type": "code",
   "execution_count": 9,
   "metadata": {},
   "outputs": [],
   "source": [
    "# Using only lat and lon features\n",
    "features_latlon = ['latitude', 'longitude']\n",
    "X_train_latlon = train_df[features_latlon]\n",
    "X_test_latlon = test_df[features_latlon]"
   ]
  },
  {
   "cell_type": "code",
   "execution_count": 10,
   "metadata": {},
   "outputs": [
    {
     "name": "stdout",
     "output_type": "stream",
     "text": [
      "\n",
      "Baseline 2 (Lat & Lon Only) metrics:\n",
      "F1: 0.632 Precision: 0.498 Recall: 0.863\n"
     ]
    }
   ],
   "source": [
    "# Initialise baseline model\n",
    "baseline_model_latlon = CatBoostClassifier(loss_function='Logloss', verbose=0, random_seed=42)\n",
    "\n",
    "# Train the model\n",
    "baseline_model_latlon.fit(X_train_latlon, y_train)  \n",
    "\n",
    "# Predict on test set\n",
    "y_pred_latlon = baseline_model_latlon.predict(X_test_latlon)  \n",
    "\n",
    "# Evaluate performance\n",
    "f1_latlon = f1_score(y_test, y_pred_latlon)\n",
    "precision_latlon = precision_score(y_test, y_pred_latlon)\n",
    "recall_latlon = recall_score(y_test, y_pred_latlon)\n",
    "\n",
    "# Store results and print metrics\n",
    "results.append({'Model': 'Baseline - Lat & Lon Only', 'F1': f1_latlon, 'Precision': precision_latlon, 'Recall': recall_latlon})\n",
    "print(\"\\nBaseline 2 (Lat & Lon Only) metrics:\")\n",
    "print(\"F1:\", round(f1_latlon, 3), \"Precision:\", round(precision_latlon, 3), \"Recall:\", round(recall_latlon, 3))"
   ]
  },
  {
   "cell_type": "markdown",
   "metadata": {},
   "source": [
    "### Baseline 3: All features with default CatBoost parameters"
   ]
  },
  {
   "cell_type": "code",
   "execution_count": 11,
   "metadata": {},
   "outputs": [
    {
     "name": "stdout",
     "output_type": "stream",
     "text": [
      "\n",
      "Baseline 3 (All Features Default) metrics:\n",
      "F1: 0.687 Precision: 0.586 Recall: 0.83\n"
     ]
    }
   ],
   "source": [
    "# Train model using all features with default parameters\n",
    "baseline_model_all = CatBoostClassifier(loss_function='Logloss', verbose=0, random_seed=42)\n",
    "\n",
    "# Train the model\n",
    "baseline_model_all.fit(X_train, y_train)  \n",
    "\n",
    "# Predict on test set\n",
    "y_pred_all = baseline_model_all.predict(X_test)  \n",
    "\n",
    "# Evaluate performance\n",
    "f1_all = f1_score(y_test, y_pred_all)\n",
    "precision_all = precision_score(y_test, y_pred_all)\n",
    "recall_all = recall_score(y_test, y_pred_all)\n",
    "\n",
    "# Store results and print metrics\n",
    "results.append({'Model': 'Baseline - All Features Default', 'F1': f1_all, 'Precision': precision_all, 'Recall': recall_all})\n",
    "print(\"\\nBaseline 3 (All Features Default) metrics:\")\n",
    "print(\"F1:\", round(f1_all, 3), \"Precision:\", round(precision_all, 3), \"Recall:\", round(recall_all, 3))"
   ]
  },
  {
   "cell_type": "markdown",
   "metadata": {},
   "source": [
    "### Baseline 4: Nested CV Tuning without using group structure"
   ]
  },
  {
   "cell_type": "markdown",
   "metadata": {},
   "source": [
    "Catboost Parameters Documentation\n",
    "- https://catboost.ai/docs/en/concepts/parameter-tuning"
   ]
  },
  {
   "cell_type": "markdown",
   "metadata": {},
   "source": [
    "These 3 are the most important\n",
    "1. Learning Rate\n",
    "2. Tree Depth\n",
    "3. Number of Trees"
   ]
  },
  {
   "cell_type": "code",
   "execution_count": 12,
   "metadata": {},
   "outputs": [
    {
     "name": "stdout",
     "output_type": "stream",
     "text": [
      "Parameter grid: {'learning_rate': [0.005, 0.01, 0.1, 0.2], 'depth': [4, 5, 6, 7], 'iterations': [100, 200, 300, 500]}\n"
     ]
    }
   ],
   "source": [
    "# Define parameter grid for CatBoost\n",
    "param_grid = {\n",
    "    'learning_rate': [0.005, 0.01, 0.1, 0.2],  \n",
    "    'depth': [4, 5, 6, 7],\n",
    "    'iterations': [100, 200, 300, 500] \n",
    "}\n",
    "print(\"Parameter grid:\", param_grid)"
   ]
  },
  {
   "cell_type": "code",
   "execution_count": 13,
   "metadata": {},
   "outputs": [
    {
     "name": "stdout",
     "output_type": "stream",
     "text": [
      "StratifiedKFold created with 5 splits (no groups).\n",
      "Starting GridSearchCV without group constraint...\n",
      "GridSearchCV (No Group) complete.\n",
      "Best parameters (No Group): {'depth': 7, 'iterations': 300, 'learning_rate': 0.1}\n",
      "Best CV F1 score (No Group): 0.7893012420700529\n"
     ]
    }
   ],
   "source": [
    "# Setup standard StratifiedKFold (without grouping)\n",
    "standard_cv = StratifiedKFold(n_splits=5, shuffle=True, random_state=42)\n",
    "print(\"StratifiedKFold created with 5 splits (no groups).\")\n",
    "\n",
    "# Initialize CatBoost model\n",
    "cat_model = CatBoostClassifier(loss_function='Logloss', verbose=0, random_seed=42)\n",
    "\n",
    "# Initialize GridSearchCV\n",
    "grid_search_no_group = GridSearchCV(estimator=cat_model,\n",
    "                                    param_grid=param_grid,\n",
    "                                    scoring='f1',\n",
    "                                    cv=standard_cv,\n",
    "                                    n_jobs=-1)\n",
    "print(\"Starting GridSearchCV without group constraint...\")\n",
    "\n",
    "# Fit the model\n",
    "grid_search_no_group.fit(X_train, y_train)\n",
    "print(\"GridSearchCV (No Group) complete.\")\n",
    "print(\"Best parameters (No Group):\", grid_search_no_group.best_params_)\n",
    "print(\"Best CV F1 score (No Group):\", grid_search_no_group.best_score_)"
   ]
  },
  {
   "cell_type": "code",
   "execution_count": 14,
   "metadata": {},
   "outputs": [
    {
     "name": "stdout",
     "output_type": "stream",
     "text": [
      "Final model (No Group CV) trained on full training data.\n"
     ]
    }
   ],
   "source": [
    "# Train final model on full training data using best parameters (No Group)\n",
    "final_model_no_group = CatBoostClassifier(\n",
    "    **grid_search_no_group.best_params_,\n",
    "    loss_function='Logloss',\n",
    "    verbose=0,\n",
    "    random_seed=42\n",
    ")\n",
    "final_model_no_group.fit(X_train, y_train)\n",
    "print(\"Final model (No Group CV) trained on full training data.\")"
   ]
  },
  {
   "cell_type": "code",
   "execution_count": 15,
   "metadata": {},
   "outputs": [
    {
     "name": "stdout",
     "output_type": "stream",
     "text": [
      "\n",
      "Nested CV Tuning (No Group) model metrics on test set:\n",
      "F1: 0.675 Precision: 0.5785714285714286 Recall: 0.81\n"
     ]
    }
   ],
   "source": [
    "# Evaluate final model (No Group CV) on test set\n",
    "y_pred_no_group = final_model_no_group.predict(X_test)\n",
    "f1_no_group = f1_score(y_test, y_pred_no_group)\n",
    "precision_no_group = precision_score(y_test, y_pred_no_group)\n",
    "recall_no_group = recall_score(y_test, y_pred_no_group)\n",
    "results.append({'Model': 'Baesline: Nested CV Tuning (No Group)', 'F1': f1_no_group, 'Precision': precision_no_group, 'Recall': recall_no_group})\n",
    "print(\"\\nNested CV Tuning (No Group) model metrics on test set:\")\n",
    "print(\"F1:\", f1_no_group, \"Precision:\", precision_no_group, \"Recall:\", recall_no_group)"
   ]
  },
  {
   "cell_type": "markdown",
   "metadata": {},
   "source": [
    "### Final Model: Stratified GroupKFold CV with Hyperparamter Tuning"
   ]
  },
  {
   "cell_type": "code",
   "execution_count": 16,
   "metadata": {},
   "outputs": [
    {
     "name": "stdout",
     "output_type": "stream",
     "text": [
      "StratifiedGroupKFold created with 5 splits (respects participant_id).\n",
      "Starting GridSearchCV with group-aware CV...\n",
      "GridSearchCV (Group) complete.\n",
      "Best parameters (Group): {'depth': 5, 'iterations': 300, 'learning_rate': 0.01}\n",
      "Best CV F1 score (Group): 0.714\n"
     ]
    }
   ],
   "source": [
    "# Setup StratifiedGroupKFold for 5-fold CV (respects participant_id groups)\n",
    "group_cv = StratifiedGroupKFold(n_splits=5)\n",
    "print(\"StratifiedGroupKFold created with 5 splits (respects participant_id).\")\n",
    "\n",
    "# Grid Search with inner CV\n",
    "grid_search = GridSearchCV(estimator=cat_model,\n",
    "                           param_grid=param_grid,\n",
    "                           scoring='f1',\n",
    "                           cv=group_cv,\n",
    "                           n_jobs=-1)\n",
    "print(\"Starting GridSearchCV with group-aware CV...\")\n",
    "\n",
    "# Fit the model\n",
    "grid_search.fit(X_train, y_train, groups=groups)\n",
    "print(\"GridSearchCV (Group) complete.\")\n",
    "print(\"Best parameters (Group):\", grid_search.best_params_)\n",
    "print(\"Best CV F1 score (Group):\", round(grid_search.best_score_,3))"
   ]
  },
  {
   "cell_type": "markdown",
   "metadata": {},
   "source": [
    "### Train final model "
   ]
  },
  {
   "cell_type": "markdown",
   "metadata": {},
   "source": [
    "1. Using best parameters from tuning\n",
    "2. On full training set"
   ]
  },
  {
   "cell_type": "code",
   "execution_count": 17,
   "metadata": {},
   "outputs": [
    {
     "name": "stdout",
     "output_type": "stream",
     "text": [
      "Final model (Group CV) trained on full training data.\n"
     ]
    }
   ],
   "source": [
    "# Train final model on full training data using best parameters (Group CV)\n",
    "final_model = CatBoostClassifier(\n",
    "    **grid_search.best_params_,\n",
    "    loss_function='Logloss',\n",
    "    verbose=0,\n",
    "    random_seed=42\n",
    ")\n",
    "final_model.fit(X_train, y_train)\n",
    "print(\"Final model (Group CV) trained on full training data.\")"
   ]
  },
  {
   "cell_type": "markdown",
   "metadata": {},
   "source": [
    "### Evaluate final model on test set"
   ]
  },
  {
   "cell_type": "code",
   "execution_count": 18,
   "metadata": {},
   "outputs": [
    {
     "name": "stdout",
     "output_type": "stream",
     "text": [
      "\n",
      "Nested CV Tuning (Group) model metrics on test set:\n",
      "F1: 0.715 Precision: 0.685 Recall: 0.747\n"
     ]
    }
   ],
   "source": [
    "# Evaluate final model (Group CV) on test set\n",
    "y_pred_final = final_model.predict(X_test)\n",
    "f1_final = f1_score(y_test, y_pred_final)\n",
    "precision_final = precision_score(y_test, y_pred_final)\n",
    "recall_final = recall_score(y_test, y_pred_final)\n",
    "results.append({'Model': 'Nested CV Tuning (Group)', 'F1': f1_final, 'Precision': precision_final, 'Recall': recall_final})\n",
    "print(\"\\nNested CV Tuning (Group) model metrics on test set:\")\n",
    "print(\"F1:\", round(f1_final,3), \"Precision:\", round(precision_final,3), \"Recall:\", round(recall_final,3))\n"
   ]
  },
  {
   "cell_type": "markdown",
   "metadata": {},
   "source": [
    "### Compare performance metrics across models"
   ]
  },
  {
   "cell_type": "code",
   "execution_count": 19,
   "metadata": {},
   "outputs": [
    {
     "name": "stdout",
     "output_type": "stream",
     "text": [
      "\n",
      "Comparison of Model Performance on Test Set:\n"
     ]
    },
    {
     "data": {
      "text/html": [
       "<div>\n",
       "<style scoped>\n",
       "    .dataframe tbody tr th:only-of-type {\n",
       "        vertical-align: middle;\n",
       "    }\n",
       "\n",
       "    .dataframe tbody tr th {\n",
       "        vertical-align: top;\n",
       "    }\n",
       "\n",
       "    .dataframe thead th {\n",
       "        text-align: right;\n",
       "    }\n",
       "</style>\n",
       "<table border=\"1\" class=\"dataframe\">\n",
       "  <thead>\n",
       "    <tr style=\"text-align: right;\">\n",
       "      <th></th>\n",
       "      <th>Model</th>\n",
       "      <th>F1</th>\n",
       "      <th>Precision</th>\n",
       "      <th>Recall</th>\n",
       "    </tr>\n",
       "  </thead>\n",
       "  <tbody>\n",
       "    <tr>\n",
       "      <th>0</th>\n",
       "      <td>Baseline - Mode Only</td>\n",
       "      <td>0.673</td>\n",
       "      <td>0.507</td>\n",
       "      <td>1.000</td>\n",
       "    </tr>\n",
       "    <tr>\n",
       "      <th>1</th>\n",
       "      <td>Baseline - Lat &amp; Lon Only</td>\n",
       "      <td>0.632</td>\n",
       "      <td>0.498</td>\n",
       "      <td>0.863</td>\n",
       "    </tr>\n",
       "    <tr>\n",
       "      <th>2</th>\n",
       "      <td>Baseline - All Features Default</td>\n",
       "      <td>0.687</td>\n",
       "      <td>0.586</td>\n",
       "      <td>0.830</td>\n",
       "    </tr>\n",
       "    <tr>\n",
       "      <th>3</th>\n",
       "      <td>Baesline: Nested CV Tuning (No Group)</td>\n",
       "      <td>0.675</td>\n",
       "      <td>0.579</td>\n",
       "      <td>0.810</td>\n",
       "    </tr>\n",
       "    <tr>\n",
       "      <th>4</th>\n",
       "      <td>Nested CV Tuning (Group)</td>\n",
       "      <td>0.715</td>\n",
       "      <td>0.685</td>\n",
       "      <td>0.747</td>\n",
       "    </tr>\n",
       "  </tbody>\n",
       "</table>\n",
       "</div>"
      ],
      "text/plain": [
       "                                   Model     F1  Precision  Recall\n",
       "0                   Baseline - Mode Only  0.673      0.507   1.000\n",
       "1              Baseline - Lat & Lon Only  0.632      0.498   0.863\n",
       "2        Baseline - All Features Default  0.687      0.586   0.830\n",
       "3  Baesline: Nested CV Tuning (No Group)  0.675      0.579   0.810\n",
       "4               Nested CV Tuning (Group)  0.715      0.685   0.747"
      ]
     },
     "execution_count": 19,
     "metadata": {},
     "output_type": "execute_result"
    }
   ],
   "source": [
    "# Compare performance metrics across models\n",
    "results_df = pd.DataFrame(results)\n",
    "\n",
    "# Round F1, Precision, and Recall to 3 decimal places\n",
    "results_df[['F1', 'Precision', 'Recall']] = results_df[['F1', 'Precision', 'Recall']].round(3)\n",
    "\n",
    "print(\"\\nComparison of Model Performance on Test Set:\")\n",
    "results_df"
   ]
  },
  {
   "cell_type": "code",
   "execution_count": 26,
   "metadata": {},
   "outputs": [
    {
     "name": "stdout",
     "output_type": "stream",
     "text": [
      "F1 Score comparison plot\n"
     ]
    },
    {
     "name": "stderr",
     "output_type": "stream",
     "text": [
      "/var/folders/25/96v60r2x2n1fr2b37qmwy46r0000gn/T/ipykernel_60771/2539576724.py:7: FutureWarning: \n",
      "\n",
      "Passing `palette` without assigning `hue` is deprecated and will be removed in v0.14.0. Assign the `y` variable to `hue` and set `legend=False` for the same effect.\n",
      "\n",
      "  sns.barplot(x='F1', y='Model', data=results_df, palette=custom_palette, edgecolor='black', linewidth=0.5)\n"
     ]
    },
    {
     "data": {
      "image/png": "[encoded data removed]",
      "text/plain": [
       "<Figure size 1000x300 with 1 Axes>"
      ]
     },
     "metadata": {},
     "output_type": "display_data"
    }
   ],
   "source": [
    "# Define colors\n",
    "custom_palette = ['#e7ecef', '#274c77', '#6096ba', '#a3cef1', '#8b8c89']\n",
    "\n",
    "# Plot horizontal bar chart of F1 scores for comparison\n",
    "print(\"F1 Score comparison plot\")\n",
    "plt.figure(figsize=(10, 3))\n",
    "sns.barplot(x='F1', y='Model', data=results_df, palette=custom_palette, edgecolor='black', linewidth=0.5)\n",
    "plt.title(\"Test Set F1 Score Comparison\")\n",
    "plt.xlabel(\"F1 Score\")\n",
    "plt.ylabel(\"Model\")\n",
    "plt.tight_layout()\n",
    "plt.show()"
   ]
  },
  {
   "cell_type": "markdown",
   "metadata": {},
   "source": [
    "### Calculate Permutation Importance"
   ]
  },
  {
   "cell_type": "code",
   "execution_count": 21,
   "metadata": {},
   "outputs": [
    {
     "name": "stdout",
     "output_type": "stream",
     "text": [
      "\n",
      "Computing permutation importance for final (Group CV) model...\n",
      "Permutation importance computed.\n"
     ]
    },
    {
     "data": {
      "text/html": [
       "<div>\n",
       "<style scoped>\n",
       "    .dataframe tbody tr th:only-of-type {\n",
       "        vertical-align: middle;\n",
       "    }\n",
       "\n",
       "    .dataframe tbody tr th {\n",
       "        vertical-align: top;\n",
       "    }\n",
       "\n",
       "    .dataframe thead th {\n",
       "        text-align: right;\n",
       "    }\n",
       "</style>\n",
       "<table border=\"1\" class=\"dataframe\">\n",
       "  <thead>\n",
       "    <tr style=\"text-align: right;\">\n",
       "      <th></th>\n",
       "      <th>feature</th>\n",
       "      <th>importance</th>\n",
       "    </tr>\n",
       "  </thead>\n",
       "  <tbody>\n",
       "    <tr>\n",
       "      <th>1</th>\n",
       "      <td>longitude</td>\n",
       "      <td>0.051975</td>\n",
       "    </tr>\n",
       "    <tr>\n",
       "      <th>2</th>\n",
       "      <td>heart_rate</td>\n",
       "      <td>0.034764</td>\n",
       "    </tr>\n",
       "    <tr>\n",
       "      <th>7</th>\n",
       "      <td>walking_distance</td>\n",
       "      <td>0.031830</td>\n",
       "    </tr>\n",
       "    <tr>\n",
       "      <th>5</th>\n",
       "      <td>stand_time</td>\n",
       "      <td>0.024824</td>\n",
       "    </tr>\n",
       "    <tr>\n",
       "      <th>9</th>\n",
       "      <td>relative_humidity</td>\n",
       "      <td>0.010106</td>\n",
       "    </tr>\n",
       "    <tr>\n",
       "      <th>10</th>\n",
       "      <td>heat_index</td>\n",
       "      <td>0.010089</td>\n",
       "    </tr>\n",
       "    <tr>\n",
       "      <th>6</th>\n",
       "      <td>step_count</td>\n",
       "      <td>0.009176</td>\n",
       "    </tr>\n",
       "    <tr>\n",
       "      <th>11</th>\n",
       "      <td>dew_point</td>\n",
       "      <td>0.007001</td>\n",
       "    </tr>\n",
       "    <tr>\n",
       "      <th>0</th>\n",
       "      <td>latitude</td>\n",
       "      <td>0.005160</td>\n",
       "    </tr>\n",
       "    <tr>\n",
       "      <th>4</th>\n",
       "      <td>heart_rate_variability</td>\n",
       "      <td>0.005007</td>\n",
       "    </tr>\n",
       "    <tr>\n",
       "      <th>13</th>\n",
       "      <td>hour_of_day</td>\n",
       "      <td>0.003117</td>\n",
       "    </tr>\n",
       "    <tr>\n",
       "      <th>3</th>\n",
       "      <td>heart_rate_resting</td>\n",
       "      <td>0.000000</td>\n",
       "    </tr>\n",
       "    <tr>\n",
       "      <th>12</th>\n",
       "      <td>day_of_week</td>\n",
       "      <td>-0.001903</td>\n",
       "    </tr>\n",
       "    <tr>\n",
       "      <th>8</th>\n",
       "      <td>temperature</td>\n",
       "      <td>-0.002204</td>\n",
       "    </tr>\n",
       "  </tbody>\n",
       "</table>\n",
       "</div>"
      ],
      "text/plain": [
       "                   feature  importance\n",
       "1                longitude    0.051975\n",
       "2               heart_rate    0.034764\n",
       "7         walking_distance    0.031830\n",
       "5               stand_time    0.024824\n",
       "9        relative_humidity    0.010106\n",
       "10              heat_index    0.010089\n",
       "6               step_count    0.009176\n",
       "11               dew_point    0.007001\n",
       "0                 latitude    0.005160\n",
       "4   heart_rate_variability    0.005007\n",
       "13             hour_of_day    0.003117\n",
       "3       heart_rate_resting    0.000000\n",
       "12             day_of_week   -0.001903\n",
       "8              temperature   -0.002204"
      ]
     },
     "execution_count": 21,
     "metadata": {},
     "output_type": "execute_result"
    }
   ],
   "source": [
    "# Permutation Importance on final (Group CV) model\n",
    "print(\"\\nComputing permutation importance for final (Group CV) model...\")\n",
    "perm_result = permutation_importance(final_model, X_test, y_test, scoring='f1', n_repeats=3, random_state=42)\n",
    "importance_df = pd.DataFrame({\n",
    "    'feature': X_test.columns,\n",
    "    'importance': perm_result.importances_mean\n",
    "}).sort_values(by='importance', ascending=False)\n",
    "\n",
    "print(\"Permutation importance computed.\")\n",
    "importance_df"
   ]
  },
  {
   "cell_type": "markdown",
   "metadata": {},
   "source": [
    "### Plot Permutation Importance"
   ]
  },
  {
   "cell_type": "code",
   "execution_count": 22,
   "metadata": {},
   "outputs": [],
   "source": [
    "# Map each feature to its group\n",
    "def get_feature_group(feature):\n",
    "    if feature in ['longitude', 'latitude', 'day_of_week', 'hour_of_day']:\n",
    "        return 'GPS Default'\n",
    "    elif feature in ['heart_rate', 'walking_distance', 'stand_time', 'step_count', 'heart_rate_variability', 'heart_rate_resting']:\n",
    "        return 'Physiological'\n",
    "    elif feature in ['heat_index', 'dew_point', 'relative_humidity', 'temperature']:\n",
    "        return 'Kestrel'\n",
    "    else:\n",
    "        return 'Other'\n",
    "\n",
    "# Create a new column in importance_df for the feature group\n",
    "importance_df['group'] = importance_df['feature'].apply(get_feature_group)\n",
    "\n",
    "# Define the color mapping\n",
    "group_colors = {\n",
    "    'GPS Default': '#274c77',    \n",
    "    'Physiological': '#6096ba',    \n",
    "    'Kestrel': '#a3cef1',          \n",
    "    'Other': '#8b8c89'         \n",
    "}"
   ]
  },
  {
   "cell_type": "code",
   "execution_count": 28,
   "metadata": {},
   "outputs": [
    {
     "data": {
      "image/png": "[encoded data removed]",
      "text/plain": [
       "<Figure size 1000x400 with 1 Axes>"
      ]
     },
     "metadata": {},
     "output_type": "display_data"
    },
    {
     "name": "stdout",
     "output_type": "stream",
     "text": [
      "Permutation importance plot displayed.\n"
     ]
    }
   ],
   "source": [
    "# Create the horizontal bar plot \n",
    "plt.figure(figsize=(10, 4))\n",
    "ax = sns.barplot(\n",
    "    x='importance',\n",
    "    y='feature',\n",
    "    data=importance_df,\n",
    "    hue='group',            \n",
    "    palette=group_colors,\n",
    "    dodge=False,            \n",
    "    edgecolor='black',\n",
    "    linewidth=0.5\n",
    ")\n",
    "plt.title('Permutation Importance (F1 Score)')\n",
    "plt.xlabel('Mean Importance')\n",
    "plt.ylabel('Feature')\n",
    "plt.legend(title=\"Feature Group\")\n",
    "plt.tight_layout()\n",
    "plt.show()\n",
    "print(\"Permutation importance plot displayed.\")"
   ]
  },
  {
   "cell_type": "markdown",
   "metadata": {},
   "source": [
    "### Predict on unlabeled location data."
   ]
  },
  {
   "cell_type": "markdown",
   "metadata": {},
   "source": [
    "1. Use trained model to predict\n",
    "2. Save results"
   ]
  },
  {
   "cell_type": "code",
   "execution_count": 24,
   "metadata": {},
   "outputs": [
    {
     "name": "stdout",
     "output_type": "stream",
     "text": [
      "\n",
      "Predicting on unlabeled data using final model...\n",
      "Unlabeled predictions saved to 'final_predictions.csv'.\n"
     ]
    }
   ],
   "source": [
    "# Drop 'participant_id' from unlabeled data\n",
    "X_unlabeled = unlabeled_data.drop(columns=['participant_id'], errors='ignore')  \n",
    "print(\"\\nPredicting on unlabeled data using final model...\")\n",
    "\n",
    "# Get prediction probabilities\n",
    "unlabeled_data['probability'] = final_model.predict_proba(X_unlabeled)[:, 1]  \n",
    "\n",
    "# Convert probabilities to binary predictions\n",
    "unlabeled_data['prediction'] = (unlabeled_data['probability'] >= 0.5).astype(int)  \n",
    "\n",
    "# Map predictions to 'Indoor'/'Outdoor'\n",
    "unlabeled_data['location'] = unlabeled_data['prediction'].map({0: 'Indoor', 1: 'Outdoor'})  \n",
    "\n",
    " # Save predictions to CSV\n",
    "unlabeled_data.to_csv('final_predictions.csv', index=False) \n",
    "print(\"Unlabeled predictions saved to 'final_predictions.csv'.\")"
   ]
  }
 ],
 "metadata": {
  "kernelspec": {
   "display_name": "Python (myenv-sec)",
   "language": "python",
   "name": "myenv"
  },
  "language_info": {
   "codemirror_mode": {
    "name": "ipython",
    "version": 3
   },
   "file_extension": ".py",
   "mimetype": "text/x-python",
   "name": "python",
   "nbconvert_exporter": "python",
   "pygments_lexer": "ipython3",
   "version": "3.9.6"
  }
 },
 "nbformat": 4,
 "nbformat_minor": 2
}
